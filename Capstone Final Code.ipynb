{
 "cells": [
  {
   "cell_type": "code",
   "execution_count": 1,
   "metadata": {},
   "outputs": [
    {
     "ename": "ModuleNotFoundError",
     "evalue": "No module named 'geocoder'",
     "output_type": "error",
     "traceback": [
      "\u001b[0;31m---------------------------------------------------------------------------\u001b[0m",
      "\u001b[0;31mModuleNotFoundError\u001b[0m                       Traceback (most recent call last)",
      "\u001b[0;32m<ipython-input-1-8c4b2a7e017c>\u001b[0m in \u001b[0;36m<module>\u001b[0;34m\u001b[0m\n\u001b[1;32m     13\u001b[0m \u001b[0;31m#!conda install -c conda-forge/label/cf202003 geocoder --yes\u001b[0m\u001b[0;34m\u001b[0m\u001b[0;34m\u001b[0m\u001b[0;34m\u001b[0m\u001b[0m\n\u001b[1;32m     14\u001b[0m \u001b[0;31m#print (\"install geocoder4\")\u001b[0m\u001b[0;34m\u001b[0m\u001b[0;34m\u001b[0m\u001b[0;34m\u001b[0m\u001b[0m\n\u001b[0;32m---> 15\u001b[0;31m \u001b[0;32mimport\u001b[0m \u001b[0mgeocoder\u001b[0m\u001b[0;34m\u001b[0m\u001b[0;34m\u001b[0m\u001b[0m\n\u001b[0m\u001b[1;32m     16\u001b[0m \u001b[0;34m\u001b[0m\u001b[0m\n\u001b[1;32m     17\u001b[0m \u001b[0;31m#!conda install -c conda-forge geopy --yes\u001b[0m\u001b[0;34m\u001b[0m\u001b[0;34m\u001b[0m\u001b[0;34m\u001b[0m\u001b[0m\n",
      "\u001b[0;31mModuleNotFoundError\u001b[0m: No module named 'geocoder'"
     ]
    }
   ],
   "source": [
    "import requests # library to handle requests\n",
    "import pandas as pd # library for data analsysis\n",
    "import numpy as np # library to handle data in a vectorized manner\n",
    "import random # library for random number generation\n",
    "from bs4 import BeautifulSoup # library for web scrapping \n",
    "\n",
    "#!conda install -c conda-forge geocoder --yes\n",
    "#print (\"install geocoder\")\n",
    "#!conda install -c conda-forge/label/gcc7 geocoder --yes\n",
    "#print (\"install geocoder2\")\n",
    "#!conda install -c conda-forge/label/cf201901 geocoder --yes\n",
    "#print (\"install geocoder3\")\n",
    "#!conda install -c conda-forge/label/cf202003 geocoder --yes\n",
    "#print (\"install geocoder4\")\n",
    "import geocoder\n",
    "\n",
    "#!conda install -c conda-forge geopy --yes \n",
    "from geopy.geocoders import Nominatim # module to convert an address into latitude and longitude values\n",
    "\n",
    "# libraries for displaying images\n",
    "from IPython.display import Image \n",
    "from IPython.core.display import HTML \n",
    "    \n",
    "# tranforming json file into a pandas dataframe library\n",
    "from pandas.io.json import json_normalize\n",
    "\n",
    "#!conda install -c conda-forge folium=0.5.0 --yes\n",
    "import folium # plotting library\n",
    "\n",
    "from sklearn.cluster import KMeans\n",
    "import matplotlib.cm as cm\n",
    "import matplotlib.colors as colors\n",
    "\n",
    "print('Folium installed')\n",
    "print('Libraries imported.')"
   ]
  },
  {
   "cell_type": "code",
   "execution_count": null,
   "metadata": {},
   "outputs": [],
   "source": [
    "CLIENT_ID = 'XXXXXXXXXXXXX' # your Foursquare ID\n",
    "CLIENT_SECRET = 'XXXXXXXXXXXX' # your Foursquare Secret\n",
    "VERSION = '20180604'\n",
    "LIMIT = 30\n",
    "print('Your credentails:')\n",
    "print('CLIENT_ID: ' + CLIENT_ID)\n",
    "print('CLIENT_SECRET:' + CLIENT_SECRET)"
   ]
  },
  {
   "cell_type": "code",
   "execution_count": null,
   "metadata": {},
   "outputs": [],
   "source": [
    "# Read in the data Covid-19 cases per district (28 May,2020)\n",
    "df_cases = pd.read_csv(\"https://raw.githubusercontent.com/cahyati/Coursera_Capstone/master/Standar%20Kelurahan%20Data%20Corona%20(28%20MEI%202020%20Pukul%2009.00).csv\")\n",
    "# View the top rows of the dataset\n",
    "df_cases\n",
    "import pandas as pd\n",
    "# Read in the data total population in DKI Jakarta 2020\n",
    "df_population = pd.read_csv(\"https://raw.githubusercontent.com/cahyati/Coursera_Capstone/master/population2020_DKI_Jakarta.csv\")\n",
    "# View the top rows of the dataset\n",
    "df_population\n",
    "# Read in the data 10 most pupulation in DKI Jakarta 2020 per district\n",
    "df_most_population = pd.read_csv(\"https://raw.githubusercontent.com/cahyati/Coursera_Capstone/master/10_kelurahan%20terpadat_DKI_Jakarta.csv\")\n",
    "# View the top rows of the dataset\n",
    "df_most_population"
   ]
  },
  {
   "cell_type": "code",
   "execution_count": null,
   "metadata": {},
   "outputs": [],
   "source": [
    "# Read in the data Hospital for treatment covid-19\n",
    "df_hospital = pd.read_csv(\"https://raw.githubusercontent.com/cahyati/Coursera_Capstone/master/Hospital%20for%20treatment%20covid-19.csv\")\n",
    "# View the top rows of the dataset\n",
    "df_hospital"
   ]
  },
  {
   "cell_type": "code",
   "execution_count": null,
   "metadata": {},
   "outputs": [],
   "source": [
    "df_cases.drop(columns =[\"ID_KEL\",\"ID_KEL.1\", \"Nama_provinsi\", \"nama_kecamatan\", \"ODP\", \"Proses Pemantauan\", \"Selesai Pemantauan\", \"PDP\", \"Masih Dirawat\", \"Pulang dan Sehat\", \"Dirawat\", \"Sembuh\", \"Meninggal\", \"Self Isolation\", \"Keterangan\"], inplace=True)\n",
    "df_cases.head()"
   ]
  },
  {
   "cell_type": "code",
   "execution_count": null,
   "metadata": {},
   "outputs": [],
   "source": [
    "indexNames = df_cases[(df_cases['nama_kelurahan'] == 'BELUM DIKETAHUI') | (df_cases['nama_kota'] == 'LUAR DKI JAKARTA')].index\n",
    "df_cases.drop(indexNames, inplace=True)\n",
    "df_cases.head()"
   ]
  },
  {
   "cell_type": "code",
   "execution_count": null,
   "metadata": {},
   "outputs": [],
   "source": [
    "# Rename columns name to English\n",
    "df_cases = df_cases.rename(columns = {'nama_kota':'CITY', 'nama_kelurahan':'DISTRICT', 'POSITIF':'POSITIVE'})\n",
    "df_cases"
   ]
  },
  {
   "cell_type": "code",
   "execution_count": null,
   "metadata": {},
   "outputs": [],
   "source": [
    "# Get the number and the names of each municipality or city in Jakarta\n",
    "df_cases['CITY'].unique()\n",
    "print(df_cases['CITY'].unique())\n",
    "np.array(['JAKARTA TIMUR', 'JAKARTA PUSAT', 'JAKARTA BARAT','JAKARTA SELATAN', 'JAKARTA UTARA', 'KAB.ADM.KEP.SERIBU'],dtype=object)\n",
    "# Get the number of districts (i.e. counts) in Jakarta.\n",
    "# Get the mean number of positive cases of each district in the city and the standard deviation\n",
    "df_cases.describe()"
   ]
  },
  {
   "cell_type": "code",
   "execution_count": null,
   "metadata": {},
   "outputs": [],
   "source": [
    "df_cases.info()\n",
    "\n",
    "# Get the number of total / confirmed POSITIVE cases in Jakarta per 28 May 2020\n",
    "df_cases['POSITIVE'].sum()\n",
    "\n",
    "print (\"positive cases :\", ((df_cases['POSITIVE'].sum()) - 6929))\n",
    "\n",
    "# Group the data by CITY\n",
    "df_cases_grp = df_cases.groupby(['CITY'])\n",
    "df_cases_grp\n",
    "\n",
    "df_cases_grp['POSITIVE'].sum()"
   ]
  },
  {
   "cell_type": "code",
   "execution_count": null,
   "metadata": {},
   "outputs": [],
   "source": [
    "# Import required package for obtaining Latitude and Longitude of each cities\n",
    "# Need to get Latitude & Longitude of Jakarta city and the districts\n",
    "# Get API key from the service provider (Open Cage Geocode)\n",
    "#!pip install opencage\n",
    "from opencage.geocoder import OpenCageGeocode\n",
    "key = 'xxxxxxxxxxxxx'\n",
    "geocoder = OpenCageGeocode(key)\n",
    "query = 'Jakarta, Indonesia'  \n",
    "results = geocoder.geocode(query)\n",
    "# print (results)\n",
    "# Isolate only the Latitude & Longitude of Jakarta from the Json file\n",
    "lat = results[0]['geometry']['lat']\n",
    "lng = results[0]['geometry']['lng']\n",
    "print ('The Latitude and Longitude of Jakarta is {} and {} reprectively.'.format(lat, lng))"
   ]
  },
  {
   "cell_type": "code",
   "execution_count": null,
   "metadata": {},
   "outputs": [],
   "source": [
    "# Get the latitude and longitude of all of the specialist hospitals\n",
    "list2_lat = []   # create empty lists for latitude\n",
    "list2_long = []  # create empty lists for longitude\n",
    "for index, row in df_hospital.iterrows(): # iterate over rows in dataframe\n",
    "    hosp = row['Hospital']\n",
    "    distr = row['District']       \n",
    "    query = str(hosp) + ', ' + str(distr) + ', Jakarta'\n",
    "    results = geocoder.geocode(query)   \n",
    "    lat = results[0]['geometry']['lat']\n",
    "    long = results[0]['geometry']['lng']\n",
    "    list2_lat.append(lat)\n",
    "    list2_long.append(long)\n",
    "# create new columns from lists    \n",
    "df_hospital['Latitude'] = list2_lat   \n",
    "df_hospital['Longitude'] = list2_long\n",
    "df_hospital"
   ]
  }
 ],
 "metadata": {
  "kernelspec": {
   "display_name": "Python 3.7",
   "language": "python",
   "name": "python3"
  },
  "language_info": {
   "codemirror_mode": {
    "name": "ipython",
    "version": 3
   },
   "file_extension": ".py",
   "mimetype": "text/x-python",
   "name": "python",
   "nbconvert_exporter": "python",
   "pygments_lexer": "ipython3",
   "version": "3.7.9"
  }
 },
 "nbformat": 4,
 "nbformat_minor": 1
}
